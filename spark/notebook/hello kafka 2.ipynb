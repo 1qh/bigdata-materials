{
 "cells": [
  {
   "cell_type": "code",
   "execution_count": 1,
   "metadata": {},
   "outputs": [],
   "source": [
    "import os \n",
    "packages = \"org.apache.spark:spark-sql-kafka-0-10_2.12:3.0.1\"\n",
    "\n",
    "os.environ[\"PYSPARK_SUBMIT_ARGS\"] = (\n",
    "    \"--packages {0} pyspark-shell\".format(packages)\n",
    ")\n",
    "\n",
    "from pyspark.context import SparkContext\n",
    "from pyspark.sql.session import SparkSession\n",
    "sc = SparkContext('local')\n",
    "spark = SparkSession(sc)"
   ]
  },
  {
   "cell_type": "code",
   "execution_count": null,
   "metadata": {},
   "outputs": [],
   "source": []
  },
  {
   "cell_type": "code",
   "execution_count": 2,
   "metadata": {},
   "outputs": [],
   "source": [
    "df1 = spark.readStream.format(\"kafka\")\\\n",
    ".option(\"kafka.bootstrap.servers\", \"kafka:9092\")\\\n",
    ".option(\"subscribe\", \"default_topic\")\\\n",
    ".load()\n"
   ]
  },
  {
   "cell_type": "code",
   "execution_count": 3,
   "metadata": {},
   "outputs": [],
   "source": [
    "query2 = df1.writeStream\\\n",
    "    .queryName(\"device_counts\").format(\"memory\")\\\n",
    "    .start()"
   ]
  },
  {
   "cell_type": "code",
   "execution_count": 8,
   "metadata": {},
   "outputs": [
    {
     "name": "stdout",
     "output_type": "stream",
     "text": [
      "+-------+--------------------+-------------+---------+------+--------------------+-------------+\n",
      "|    key|               value|        topic|partition|offset|           timestamp|timestampType|\n",
      "+-------+--------------------+-------------+---------+------+--------------------+-------------+\n",
      "|[35 35]|[7B 22 5F 63 30 2...|default_topic|        0|    75|2020-10-08 19:10:...|            0|\n",
      "|[35 36]|[7B 22 5F 63 30 2...|default_topic|        0|    76|2020-10-08 19:10:...|            0|\n",
      "|[35 37]|[7B 22 5F 63 30 2...|default_topic|        0|    77|2020-10-08 19:10:...|            0|\n",
      "|[35 38]|[7B 22 5F 63 30 2...|default_topic|        0|    78|2020-10-08 19:10:...|            0|\n",
      "|[35 39]|[7B 22 5F 63 30 2...|default_topic|        0|    79|2020-10-08 19:10:...|            0|\n",
      "|[36 30]|[7B 22 5F 63 30 2...|default_topic|        0|    80|2020-10-08 19:10:...|            0|\n",
      "|[36 31]|[7B 22 5F 63 30 2...|default_topic|        0|    81|2020-10-08 19:10:...|            0|\n",
      "|[36 32]|[7B 22 5F 63 30 2...|default_topic|        0|    82|2020-10-08 19:10:...|            0|\n",
      "|[36 33]|[7B 22 5F 63 30 2...|default_topic|        0|    83|2020-10-08 19:10:...|            0|\n",
      "|[36 34]|[7B 22 5F 63 30 2...|default_topic|        0|    84|2020-10-08 19:10:...|            0|\n",
      "|[36 35]|[7B 22 5F 63 30 2...|default_topic|        0|    85|2020-10-08 19:10:...|            0|\n",
      "|[36 36]|[7B 22 5F 63 30 2...|default_topic|        0|    86|2020-10-08 19:10:...|            0|\n",
      "|[36 37]|[7B 22 5F 63 30 2...|default_topic|        0|    87|2020-10-08 19:10:...|            0|\n",
      "|[36 38]|[7B 22 5F 63 30 2...|default_topic|        0|    88|2020-10-08 19:10:...|            0|\n",
      "|[36 39]|[7B 22 5F 63 30 2...|default_topic|        0|    89|2020-10-08 19:10:...|            0|\n",
      "|[37 30]|[7B 22 5F 63 30 2...|default_topic|        0|    90|2020-10-08 19:10:...|            0|\n",
      "|[37 31]|[7B 22 5F 63 30 2...|default_topic|        0|    91|2020-10-08 19:10:...|            0|\n",
      "|[37 32]|[7B 22 5F 63 30 2...|default_topic|        0|    92|2020-10-08 19:10:...|            0|\n",
      "|[37 33]|[7B 22 5F 63 30 2...|default_topic|        0|    93|2020-10-08 19:10:...|            0|\n",
      "|[37 34]|[7B 22 5F 63 30 2...|default_topic|        0|    94|2020-10-08 19:10:...|            0|\n",
      "+-------+--------------------+-------------+---------+------+--------------------+-------------+\n",
      "only showing top 20 rows\n",
      "\n"
     ]
    }
   ],
   "source": [
    "spark.sql('SELECT * FROM device_counts').show()"
   ]
  },
  {
   "cell_type": "code",
   "execution_count": null,
   "metadata": {},
   "outputs": [],
   "source": [
    "df1.writeStream.trigger(processingTime='5 seconds')\\\n",
    ".format(\"console\").outputMode(\"complete\").start()"
   ]
  }
 ],
 "metadata": {
  "kernelspec": {
   "display_name": "Python 3",
   "language": "python",
   "name": "python3"
  },
  "language_info": {
   "codemirror_mode": {
    "name": "ipython",
    "version": 3
   },
   "file_extension": ".py",
   "mimetype": "text/x-python",
   "name": "python",
   "nbconvert_exporter": "python",
   "pygments_lexer": "ipython3",
   "version": "3.8.5"
  }
 },
 "nbformat": 4,
 "nbformat_minor": 4
}
